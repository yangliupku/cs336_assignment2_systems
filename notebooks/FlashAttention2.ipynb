{
  "nbformat": 4,
  "nbformat_minor": 0,
  "metadata": {
    "colab": {
      "provenance": [],
      "authorship_tag": "ABX9TyPmUE/KgSucpjxle55QFR6W",
      "include_colab_link": true
    },
    "kernelspec": {
      "name": "python3",
      "display_name": "Python 3"
    },
    "language_info": {
      "name": "python"
    }
  },
  "cells": [
    {
      "cell_type": "markdown",
      "metadata": {
        "id": "view-in-github",
        "colab_type": "text"
      },
      "source": [
        "<a href=\"https://colab.research.google.com/github/yangliupku/cs336_assignment2_systems/blob/main/notebooks/FlashAttention2.ipynb\" target=\"_parent\"><img src=\"https://colab.research.google.com/assets/colab-badge.svg\" alt=\"Open In Colab\"/></a>"
      ]
    },
    {
      "cell_type": "code",
      "execution_count": 1,
      "metadata": {
        "id": "ADseUxh4Ljwl"
      },
      "outputs": [],
      "source": [
        "import torch\n",
        "from einops import einsum\n",
        "import math"
      ]
    },
    {
      "cell_type": "code",
      "source": [
        "B = 64\n",
        "D = 1024\n",
        "Bq = 10\n",
        "Bk = 10"
      ],
      "metadata": {
        "id": "0qSXnfPJLsVs"
      },
      "execution_count": 53,
      "outputs": []
    },
    {
      "cell_type": "code",
      "source": [
        "Q = torch.rand(B, D)\n",
        "K = torch.rand(B, D)\n",
        "V = torch.rand(B, D)"
      ],
      "metadata": {
        "id": "pQBXMaM9L_Pc"
      },
      "execution_count": 15,
      "outputs": []
    },
    {
      "cell_type": "code",
      "source": [
        "S = einsum(Q, K, 'bq d, bk d -> bq bk') / math.sqrt(D)\n",
        "P = torch.softmax(S, dim=-1)\n",
        "O = einsum(P, V, 'bq bk, bk d -> bq d')\n",
        "L = torch.log(torch.sum(torch.exp(S), axis=-1))\n",
        "print(O)\n",
        "print(O.shape)\n",
        "print(L)\n",
        "print(L.shape)"
      ],
      "metadata": {
        "colab": {
          "base_uri": "https://localhost:8080/"
        },
        "id": "jP6ezy6HMJfK",
        "outputId": "7216f290-2c12-4e16-89ec-36c6da36dd13"
      },
      "execution_count": 36,
      "outputs": [
        {
          "output_type": "stream",
          "name": "stdout",
          "text": [
            "tensor([[0.4194, 0.4443, 0.5016,  ..., 0.5111, 0.4965, 0.5560],\n",
            "        [0.4219, 0.4460, 0.5002,  ..., 0.5116, 0.4997, 0.5484],\n",
            "        [0.4134, 0.4474, 0.4975,  ..., 0.5061, 0.4919, 0.5519],\n",
            "        ...,\n",
            "        [0.4248, 0.4435, 0.4978,  ..., 0.5070, 0.4936, 0.5448],\n",
            "        [0.4246, 0.4458, 0.4913,  ..., 0.5067, 0.4902, 0.5507],\n",
            "        [0.4237, 0.4470, 0.4944,  ..., 0.5060, 0.4925, 0.5556]])\n",
            "torch.Size([64, 1024])\n",
            "tensor([12.0023, 12.2469, 11.9829, 11.8613, 12.1185, 12.3269, 12.2075, 11.8744,\n",
            "        12.1786, 12.1615, 12.3319, 12.2788, 11.8585, 12.2465, 12.0639, 11.9156,\n",
            "        12.0999, 12.0783, 12.0229, 12.3031, 11.8806, 12.2182, 12.1552, 12.3759,\n",
            "        12.1924, 12.1719, 12.2220, 12.0073, 12.4595, 12.0897, 12.0852, 12.2045,\n",
            "        12.1742, 11.9323, 12.4415, 12.2295, 12.0696, 11.9311, 12.2001, 12.2567,\n",
            "        11.8395, 12.1948, 12.1401, 12.1884, 12.1386, 12.2132, 12.1860, 12.0523,\n",
            "        12.1982, 12.2127, 11.8483, 11.9917, 12.3106, 12.3414, 11.9267, 12.0404,\n",
            "        12.2204, 12.2140, 12.1391, 11.9412, 12.1694, 12.2647, 12.1597, 12.1174])\n",
            "torch.Size([64])\n"
          ]
        }
      ]
    },
    {
      "cell_type": "code",
      "source": [
        "Tq = math.ceil(B/Bq)\n",
        "Tk = math.ceil(B/Bk)"
      ],
      "metadata": {
        "id": "rHiyaAy2MXfR"
      },
      "execution_count": 54,
      "outputs": []
    },
    {
      "cell_type": "code",
      "source": [
        "OO = []\n",
        "LL = []\n",
        "for i in range(Tq):\n",
        "  Oi = torch.zeros(Bq, D)\n",
        "  li = torch.zeros(Bq,)\n",
        "  mi = torch.ones(Bq,)*torch.tensor(float('-inf'))\n",
        "  for j in range(Tk):\n",
        "    Qi = Q[i*Bq:(i+1)*Bq, :]\n",
        "    Kj = K[j*Bk:(j+1)*Bk, :]\n",
        "    Vj = V[j*Bk:(j+1)*Bk, :]\n",
        "    # pad 0 to Qi\n",
        "    if Qi.shape[0] < Bq:\n",
        "      Qi = torch.cat([Qi, torch.zeros(Bq-Qi.shape[0], D)], axis=0)\n",
        "    # pad 0 to Kj, Vj\n",
        "    if Kj.shape[0] < Bk:\n",
        "      Kj = torch.cat([Kj, torch.zeros(Bk-Kj.shape[0], D)], axis=0)\n",
        "    if Vj.shape[0] < Bk:\n",
        "      Vj = torch.cat([Vj, torch.zeros(Bk-Vj.shape[0], D)], axis=0)\n",
        "    prev_mi = mi\n",
        "    Sij = einsum(Qi, Kj, 'q d, k d -> q k') / math.sqrt(D)\n",
        "    mi = torch.maximum(prev_mi, torch.max(Sij, axis=-1).values)\n",
        "    Pij = torch.exp(Sij - mi.unsqueeze(-1))\n",
        "    scaling_factor = torch.exp(prev_mi-mi)\n",
        "    li = scaling_factor*li +torch.sum(Pij, axis=-1)\n",
        "    Oi = scaling_factor.unsqueeze(-1)*Oi + Pij@Vj\n",
        "\n",
        "  Oi = (1/li).unsqueeze(-1)*Oi\n",
        "  li = mi + torch.log(li)\n",
        "  OO.append(Oi)\n",
        "  LL.append(li)\n",
        "\n",
        "O = torch.concat(OO, axis=0)[:Q.shape[0],:]\n",
        "L = torch.concat(LL, axis=0)[:Q.shape[0],]\n",
        "print(O)\n",
        "print(O.shape)\n",
        "print(L)\n",
        "print(L.shape)"
      ],
      "metadata": {
        "colab": {
          "base_uri": "https://localhost:8080/"
        },
        "id": "_D2SCSDENAUB",
        "outputId": "1e6cefaa-841b-4e91-f585-7d8a760b7cb6"
      },
      "execution_count": 63,
      "outputs": [
        {
          "output_type": "stream",
          "name": "stdout",
          "text": [
            "tensor([[0.4194, 0.4443, 0.5015,  ..., 0.5111, 0.4965, 0.5559],\n",
            "        [0.4219, 0.4459, 0.5002,  ..., 0.5116, 0.4997, 0.5484],\n",
            "        [0.4134, 0.4474, 0.4975,  ..., 0.5061, 0.4918, 0.5518],\n",
            "        ...,\n",
            "        [0.4248, 0.4435, 0.4977,  ..., 0.5070, 0.4936, 0.5448],\n",
            "        [0.4245, 0.4458, 0.4913,  ..., 0.5067, 0.4901, 0.5507],\n",
            "        [0.4237, 0.4470, 0.4944,  ..., 0.5060, 0.4925, 0.5556]])\n",
            "torch.Size([64, 1024])\n",
            "tensor([12.0024, 12.2470, 11.9829, 11.8614, 12.1185, 12.3270, 12.2075, 11.8744,\n",
            "        12.1786, 12.1615, 12.3319, 12.2788, 11.8585, 12.2465, 12.0639, 11.9156,\n",
            "        12.0999, 12.0783, 12.0229, 12.3031, 11.8806, 12.2182, 12.1553, 12.3759,\n",
            "        12.1925, 12.1719, 12.2221, 12.0073, 12.4596, 12.0897, 12.0852, 12.2046,\n",
            "        12.1743, 11.9324, 12.4416, 12.2295, 12.0696, 11.9312, 12.2002, 12.2567,\n",
            "        11.8395, 12.1948, 12.1402, 12.1884, 12.1386, 12.2132, 12.1861, 12.0523,\n",
            "        12.1983, 12.2127, 11.8483, 11.9918, 12.3106, 12.3414, 11.9267, 12.0404,\n",
            "        12.2205, 12.2140, 12.1391, 11.9413, 12.1694, 12.2648, 12.1597, 12.1175])\n",
            "torch.Size([64])\n"
          ]
        }
      ]
    },
    {
      "cell_type": "code",
      "source": [
        "O.shape"
      ],
      "metadata": {
        "colab": {
          "base_uri": "https://localhost:8080/"
        },
        "id": "YDn3bgDpOOHK",
        "outputId": "902282af-d969-47a3-ca2d-aaa2960a96e3"
      },
      "execution_count": 61,
      "outputs": [
        {
          "output_type": "execute_result",
          "data": {
            "text/plain": [
              "torch.Size([64, 1024])"
            ]
          },
          "metadata": {},
          "execution_count": 61
        }
      ]
    },
    {
      "cell_type": "code",
      "source": [
        "O.shape"
      ],
      "metadata": {
        "colab": {
          "base_uri": "https://localhost:8080/"
        },
        "id": "RVjF9XIsQb4P",
        "outputId": "60029d33-8efb-4d92-dcb9-7af40bc677d9"
      },
      "execution_count": 85,
      "outputs": [
        {
          "output_type": "execute_result",
          "data": {
            "text/plain": [
              "torch.Size([64, 1024])"
            ]
          },
          "metadata": {},
          "execution_count": 85
        }
      ]
    },
    {
      "cell_type": "code",
      "source": [
        "O.shape"
      ],
      "metadata": {
        "colab": {
          "base_uri": "https://localhost:8080/"
        },
        "id": "BSQ6QxK0Rmvh",
        "outputId": "c6648de4-5b66-48f2-b40c-0c65aef3b293"
      },
      "execution_count": 80,
      "outputs": [
        {
          "output_type": "execute_result",
          "data": {
            "text/plain": [
              "torch.Size([64, 1024])"
            ]
          },
          "metadata": {},
          "execution_count": 80
        }
      ]
    },
    {
      "cell_type": "code",
      "source": [
        "torch.concat([a,b], axis=0)"
      ],
      "metadata": {
        "colab": {
          "base_uri": "https://localhost:8080/"
        },
        "id": "y6fnRhtMrZPh",
        "outputId": "b275fe7f-f7b2-474a-b444-47cc668ed69b"
      },
      "execution_count": 66,
      "outputs": [
        {
          "output_type": "execute_result",
          "data": {
            "text/plain": [
              "tensor([[1., 1., 1.],\n",
              "        [1., 1., 1.],\n",
              "        [1., 1., 1.],\n",
              "        [1., 1., 1.],\n",
              "        [1., 1., 1.]])"
            ]
          },
          "metadata": {},
          "execution_count": 66
        }
      ]
    },
    {
      "cell_type": "code",
      "source": [
        "a = [1,2,3]"
      ],
      "metadata": {
        "id": "PBFvFi_vsJmn"
      },
      "execution_count": 22,
      "outputs": []
    },
    {
      "cell_type": "code",
      "source": [
        "a[0:8]"
      ],
      "metadata": {
        "colab": {
          "base_uri": "https://localhost:8080/"
        },
        "id": "ESQEgPNfKlGB",
        "outputId": "1f69c813-d641-4799-8240-185610afd797"
      },
      "execution_count": 24,
      "outputs": [
        {
          "output_type": "execute_result",
          "data": {
            "text/plain": [
              "[1, 2, 3]"
            ]
          },
          "metadata": {},
          "execution_count": 24
        }
      ]
    },
    {
      "cell_type": "code",
      "source": [],
      "metadata": {
        "id": "w1rz1ieRKml1"
      },
      "execution_count": null,
      "outputs": []
    }
  ]
}