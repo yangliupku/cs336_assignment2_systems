{
  "nbformat": 4,
  "nbformat_minor": 0,
  "metadata": {
    "colab": {
      "provenance": [],
      "machine_shape": "hm",
      "gpuType": "A100",
      "authorship_tag": "ABX9TyPsri0h5u7n9OIMRfZ952HE",
      "include_colab_link": true
    },
    "kernelspec": {
      "name": "python3",
      "display_name": "Python 3"
    },
    "language_info": {
      "name": "python"
    },
    "accelerator": "GPU"
  },
  "cells": [
    {
      "cell_type": "markdown",
      "metadata": {
        "id": "view-in-github",
        "colab_type": "text"
      },
      "source": [
        "<a href=\"https://colab.research.google.com/github/yangliupku/cs336_assignment2_systems/blob/main/notebooks/mixed_precision.ipynb\" target=\"_parent\"><img src=\"https://colab.research.google.com/assets/colab-badge.svg\" alt=\"Open In Colab\"/></a>"
      ]
    },
    {
      "cell_type": "code",
      "execution_count": 1,
      "metadata": {
        "id": "cOplTwqN6LKz"
      },
      "outputs": [],
      "source": [
        "import torch"
      ]
    },
    {
      "cell_type": "code",
      "source": [
        "torch.cuda.is_available()"
      ],
      "metadata": {
        "colab": {
          "base_uri": "https://localhost:8080/"
        },
        "id": "I0o_n99j6Q_j",
        "outputId": "1918b62f-d015-45de-c919-4a15b15ca066"
      },
      "execution_count": 2,
      "outputs": [
        {
          "output_type": "execute_result",
          "data": {
            "text/plain": [
              "True"
            ]
          },
          "metadata": {},
          "execution_count": 2
        }
      ]
    },
    {
      "cell_type": "code",
      "source": [
        "s = torch.tensor(0, dtype=torch.float32, device='cuda')\n",
        "for i in range(1000):\n",
        "  s += torch.tensor(0.01, dtype=torch.float32, device='cuda')\n",
        "print(s)"
      ],
      "metadata": {
        "colab": {
          "base_uri": "https://localhost:8080/"
        },
        "id": "RWulBKxP6kuz",
        "outputId": "c9b817ca-edd0-4872-b105-0b1b873a525f"
      },
      "execution_count": 8,
      "outputs": [
        {
          "output_type": "stream",
          "name": "stdout",
          "text": [
            "tensor(10.0001, device='cuda:0')\n"
          ]
        }
      ]
    },
    {
      "cell_type": "code",
      "source": [
        "s = torch.tensor(0, dtype=torch.float16, device='cuda')\n",
        "for i in range(1000):\n",
        "  s += torch.tensor(0.01, dtype=torch.float16, device='cuda')\n",
        "print(s)"
      ],
      "metadata": {
        "colab": {
          "base_uri": "https://localhost:8080/"
        },
        "id": "m6Ye35Lu6vD8",
        "outputId": "be81b185-a6bb-4b03-a2e7-357e7a55e1f4"
      },
      "execution_count": 11,
      "outputs": [
        {
          "output_type": "stream",
          "name": "stdout",
          "text": [
            "tensor(9.9531, device='cuda:0', dtype=torch.float16)\n"
          ]
        }
      ]
    },
    {
      "cell_type": "code",
      "source": [
        "s = torch.tensor(0, dtype=torch.bfloat16, device='cuda')\n",
        "for i in range(1000):\n",
        "  s += torch.tensor(0.01, dtype=torch.bfloat16, device='cuda')\n",
        "print(s)"
      ],
      "metadata": {
        "colab": {
          "base_uri": "https://localhost:8080/"
        },
        "id": "vgiNmAGk6vpr",
        "outputId": "62c3323c-78bd-4786-d99a-e3d44277ebf7"
      },
      "execution_count": 12,
      "outputs": [
        {
          "output_type": "stream",
          "name": "stdout",
          "text": [
            "tensor(4., device='cuda:0', dtype=torch.bfloat16)\n"
          ]
        }
      ]
    },
    {
      "cell_type": "code",
      "source": [
        "s = torch.tensor(0, dtype=torch.float32, device='cuda')\n",
        "for i in range(1000):\n",
        "  s += torch.tensor(0.01, dtype=torch.float16, device='cuda')\n",
        "print(s)"
      ],
      "metadata": {
        "colab": {
          "base_uri": "https://localhost:8080/"
        },
        "id": "wZYm__k07FUZ",
        "outputId": "51c9bf7a-5db8-4b30-c973-d28388026c9e"
      },
      "execution_count": 13,
      "outputs": [
        {
          "output_type": "stream",
          "name": "stdout",
          "text": [
            "tensor(10.0021, device='cuda:0')\n"
          ]
        }
      ]
    },
    {
      "cell_type": "code",
      "source": [
        "s = torch.tensor(0, dtype=torch.float32, device='cuda')\n",
        "for i in range(1000):\n",
        "  x = torch.tensor(0.01, dtype=torch.float16, device='cuda')\n",
        "  s += x.type(torch.float32)\n",
        "print(s)"
      ],
      "metadata": {
        "colab": {
          "base_uri": "https://localhost:8080/"
        },
        "id": "rIQLbQQ97Xf2",
        "outputId": "cbe414b2-6a1d-48cc-d019-e1b4f2ac8cf8"
      },
      "execution_count": 14,
      "outputs": [
        {
          "output_type": "stream",
          "name": "stdout",
          "text": [
            "tensor(10.0021, device='cuda:0')\n"
          ]
        }
      ]
    },
    {
      "cell_type": "code",
      "source": [
        "a = torch.tensor(0.01, dtype=torch.bfloat16, device='cuda')"
      ],
      "metadata": {
        "id": "M7jOvRs87kPi"
      },
      "execution_count": 15,
      "outputs": []
    },
    {
      "cell_type": "code",
      "source": [
        "s = torch.tensor(0, dtype=torch.bfloat16, device='cuda')\n",
        "for i in range(500):\n",
        "  s += torch.tensor(0.01, dtype=torch.bfloat16, device='cuda')\n",
        "print(s)"
      ],
      "metadata": {
        "colab": {
          "base_uri": "https://localhost:8080/"
        },
        "id": "0TW_pQ_J8E_Y",
        "outputId": "271efa90-e553-4e35-954c-3ca5d0b95357"
      },
      "execution_count": 25,
      "outputs": [
        {
          "output_type": "stream",
          "name": "stdout",
          "text": [
            "tensor(4., device='cuda:0', dtype=torch.bfloat16)\n"
          ]
        }
      ]
    },
    {
      "cell_type": "code",
      "source": [
        "class ToyModel(torch.nn.Module):\n",
        "  def __init__(self, in_features: int, out_features: int):\n",
        "    super().__init__()\n",
        "    self.fc1 = torch.nn.Linear(in_features=in_features, out_features=10, bias=False)\n",
        "    self.fc2 = torch.nn.Linear(in_features=10, out_features=out_features, bias=False)\n",
        "    self.ln = torch.nn.LayerNorm(10)\n",
        "    self.relu = torch.nn.ReLU()\n",
        "\n",
        "  def forward(self, x):\n",
        "    print(\"forward\")\n",
        "    print(\"input:\", x.dtype)\n",
        "    x = self.fc1(x)\n",
        "    print(\"fc1:\", x.dtype)\n",
        "    x = self.ln(x)\n",
        "    print(\"ln:\", x.dtype)\n",
        "    x = self.relu(x)\n",
        "    print(\"relu:\", x.dtype)\n",
        "    x = self.fc2(x)\n",
        "    print(\"fc2:\", x.dtype)\n",
        "    return x\n"
      ],
      "metadata": {
        "id": "GfeK21nc8FP7"
      },
      "execution_count": 43,
      "outputs": []
    },
    {
      "cell_type": "code",
      "source": [
        "model = ToyModel(5, 8).to('cuda')\n",
        "x = torch.rand(15, 5, device='cuda')\n",
        "y = model(x)\n"
      ],
      "metadata": {
        "colab": {
          "base_uri": "https://localhost:8080/"
        },
        "id": "iwcDafme-Fay",
        "outputId": "fdc45187-6bfd-4aef-df43-065b2a2aec40"
      },
      "execution_count": 46,
      "outputs": [
        {
          "output_type": "stream",
          "name": "stdout",
          "text": [
            "forward\n",
            "input: torch.float32\n",
            "fc1: torch.float32\n",
            "ln: torch.float32\n",
            "relu: torch.float32\n",
            "fc2: torch.float32\n"
          ]
        }
      ]
    },
    {
      "cell_type": "code",
      "source": [],
      "metadata": {
        "id": "P3Q_o-Gj-JaV"
      },
      "execution_count": 39,
      "outputs": []
    },
    {
      "cell_type": "code",
      "source": [
        "dtype = torch.float16\n",
        "model = ToyModel(5, 8).to('cuda')\n",
        "x = torch.rand(15, 5, device='cuda', dtype=dtype)\n",
        "with torch.autocast(device_type='cuda', dtype=dtype):\n",
        "  y = model(x)\n"
      ],
      "metadata": {
        "colab": {
          "base_uri": "https://localhost:8080/"
        },
        "id": "1Ibr7URO-b6p",
        "outputId": "9463f313-fc4a-4529-df8a-c0c2cd799caa"
      },
      "execution_count": 47,
      "outputs": [
        {
          "output_type": "stream",
          "name": "stdout",
          "text": [
            "forward\n",
            "input: torch.float16\n",
            "fc1: torch.float16\n",
            "ln: torch.float32\n",
            "relu: torch.float32\n",
            "fc2: torch.float16\n"
          ]
        }
      ]
    },
    {
      "cell_type": "code",
      "source": [
        "model = ToyModel(5, 8).to('cuda')\n",
        "x = torch.rand(15, 5, device='cuda')\n",
        "opt = torch.optim.AdamW(params=model.parameters())\n",
        "opt.zero_grad()\n",
        "y = model(x)\n",
        "print(\"---- params ----\")\n",
        "for k, v in model.named_parameters():\n",
        "  print(k, v.dtype)\n",
        "print(\"y dtype\", y.dtype)\n",
        "loss = (y.mean())**2\n",
        "print(\"loss dtype\", loss.dtype)\n",
        "loss.backward()\n",
        "print(\"---- params grad----\")\n",
        "for k, v in model.named_parameters():\n",
        "  print(k, v.grad.dtype)\n",
        "opt.step()\n"
      ],
      "metadata": {
        "colab": {
          "base_uri": "https://localhost:8080/"
        },
        "id": "3HlUK-TS_H6f",
        "outputId": "e93f5c68-a790-4d00-98fb-e1d4a8bece70"
      },
      "execution_count": 64,
      "outputs": [
        {
          "output_type": "stream",
          "name": "stdout",
          "text": [
            "forward\n",
            "input: torch.float32\n",
            "fc1: torch.float32\n",
            "ln: torch.float32\n",
            "relu: torch.float32\n",
            "fc2: torch.float32\n",
            "---- params ----\n",
            "fc1.weight torch.float32\n",
            "fc2.weight torch.float32\n",
            "ln.weight torch.float32\n",
            "ln.bias torch.float32\n",
            "y dtype torch.float32\n",
            "loss dtype torch.float32\n",
            "---- params grad----\n",
            "fc1.weight torch.float32\n",
            "fc2.weight torch.float32\n",
            "ln.weight torch.float32\n",
            "ln.bias torch.float32\n"
          ]
        }
      ]
    },
    {
      "cell_type": "code",
      "source": [
        "model = ToyModel(5, 8).to('cuda')\n",
        "x = torch.rand(15, 5, device='cuda')\n",
        "opt = torch.optim.AdamW(params=model.parameters())\n",
        "with torch.autocast(device_type='cuda', dtype=torch.float16):\n",
        "  opt.zero_grad()\n",
        "  y = model(x)\n",
        "  print(\"---- params ----\")\n",
        "  for k, v in model.named_parameters():\n",
        "    print(k, v.dtype)\n",
        "  print(\"y dtype\", y.dtype)\n",
        "  loss = (y.mean())**2\n",
        "  print(\"loss dtype\", loss.dtype)\n",
        "  loss.backward()\n",
        "  print(\"---- params grad----\")\n",
        "  for k, v in model.named_parameters():\n",
        "    print(k, v.grad.dtype)\n",
        "  opt.step()"
      ],
      "metadata": {
        "colab": {
          "base_uri": "https://localhost:8080/"
        },
        "id": "UP4I8Sa4AGHY",
        "outputId": "052a5e64-6207-40e7-ba2d-7af5a1064fb4"
      },
      "execution_count": 66,
      "outputs": [
        {
          "output_type": "stream",
          "name": "stdout",
          "text": [
            "forward\n",
            "input: torch.float32\n",
            "fc1: torch.float16\n",
            "ln: torch.float32\n",
            "relu: torch.float32\n",
            "fc2: torch.float16\n",
            "---- params ----\n",
            "fc1.weight torch.float32\n",
            "fc2.weight torch.float32\n",
            "ln.weight torch.float32\n",
            "ln.bias torch.float32\n",
            "y dtype torch.float16\n",
            "loss dtype torch.float32\n",
            "---- params grad----\n",
            "fc1.weight torch.float32\n",
            "fc2.weight torch.float32\n",
            "ln.weight torch.float32\n",
            "ln.bias torch.float32\n"
          ]
        }
      ]
    },
    {
      "cell_type": "code",
      "source": [
        "model = ToyModel(5, 8).to('cuda')\n",
        "x = torch.rand(15, 5, device='cuda')\n",
        "opt = torch.optim.AdamW(params=model.parameters())\n",
        "with torch.autocast(device_type='cuda', dtype=torch.bfloat16):\n",
        "  opt.zero_grad()\n",
        "  y = model(x)\n",
        "  print(\"---- params ----\")\n",
        "  for k, v in model.named_parameters():\n",
        "    print(k, v.dtype)\n",
        "  print(\"y dtype\", y.dtype)\n",
        "  loss = (y.mean())**2\n",
        "  print(\"loss dtype\", loss.dtype)\n",
        "  loss.backward()\n",
        "  print(\"---- params grad----\")\n",
        "  for k, v in model.named_parameters():\n",
        "    print(k, v.grad.dtype)\n",
        "  opt.step()"
      ],
      "metadata": {
        "colab": {
          "base_uri": "https://localhost:8080/"
        },
        "id": "tO8t1Et9Am23",
        "outputId": "e0ea2b03-f735-4c28-bea7-100f750ad22f"
      },
      "execution_count": 67,
      "outputs": [
        {
          "output_type": "stream",
          "name": "stdout",
          "text": [
            "forward\n",
            "input: torch.float32\n",
            "fc1: torch.bfloat16\n",
            "ln: torch.float32\n",
            "relu: torch.float32\n",
            "fc2: torch.bfloat16\n",
            "---- params ----\n",
            "fc1.weight torch.float32\n",
            "fc2.weight torch.float32\n",
            "ln.weight torch.float32\n",
            "ln.bias torch.float32\n",
            "y dtype torch.bfloat16\n",
            "loss dtype torch.float32\n",
            "---- params grad----\n",
            "fc1.weight torch.float32\n",
            "fc2.weight torch.float32\n",
            "ln.weight torch.float32\n",
            "ln.bias torch.float32\n"
          ]
        }
      ]
    },
    {
      "cell_type": "code",
      "source": [],
      "metadata": {
        "id": "miASar7-CwRK"
      },
      "execution_count": null,
      "outputs": []
    }
  ]
}